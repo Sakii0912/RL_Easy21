{
 "cells": [
  {
   "cell_type": "markdown",
   "id": "7a8359e5",
   "metadata": {},
   "source": [
    "# Implementation of the Easy21 game from David Silver's RL Slides."
   ]
  },
  {
   "cell_type": "markdown",
   "id": "7a98726c",
   "metadata": {},
   "source": [
    "## Describing the game"
   ]
  },
  {
   "cell_type": "markdown",
   "id": "acabdf22",
   "metadata": {},
   "source": [
    "- The game is played with an infinite deck of cards (i.e. cards are sampled\n",
    "with replacement)\n",
    "- Each draw from the deck results in a value between 1 and 10 (uniformly\n",
    "distributed) with a colour of red (probability 1/3) or black (probability\n",
    "2/3).\n",
    "- There are no aces or picture (face) cards in this game\n",
    "- At the start of the game both the player and the dealer draw one black\n",
    "card (fully observed)\n",
    "- Each turn the player may either stick or hit\n",
    "- If the player hits then she draws another card from the deck\n",
    "- If the player sticks she receives no further cards\n",
    "- The values of the player’s cards are added (black cards) or subtracted (red\n",
    "cards)\n",
    "- If the player’s sum exceeds 21, or becomes less than 1, then she “goes\n",
    "bust” and loses the game (reward -1)\n",
    "- If the player sticks then the dealer starts taking turns. The dealer always\n",
    "sticks on any sum of 17 or greater, and hits otherwise. If the dealer goes\n",
    "bust, then the player wins; otherwise, the outcome – win (reward +1),\n",
    "lose (reward -1), or draw (reward 0) – is the player with the largest sum."
   ]
  },
  {
   "cell_type": "markdown",
   "id": "daba26bb",
   "metadata": {},
   "source": [
    "### Part 1: Implementation of Easy21"
   ]
  },
  {
   "cell_type": "markdown",
   "id": "955f6406",
   "metadata": {},
   "source": [
    "State s is the tuple (top, sum), action a is 0 for hit and 1 for stick. "
   ]
  },
  {
   "cell_type": "code",
   "execution_count": null,
   "id": "de353244",
   "metadata": {},
   "outputs": [],
   "source": [
    "import random"
   ]
  },
  {
   "cell_type": "code",
   "execution_count": null,
   "id": "5b18a9fe",
   "metadata": {},
   "outputs": [],
   "source": [
    "def draw_card():\n",
    "    value = random.randint(1, 10)\n",
    "    colour_value = random.random()\n",
    "    if colour_value < 0.33:\n",
    "        return -value\n",
    "    else:\n",
    "        return value"
   ]
  },
  {
   "cell_type": "code",
   "execution_count": null,
   "id": "985ba0ef",
   "metadata": {},
   "outputs": [],
   "source": [
    "def step(s, a): # s is the state (top card of dealer, total sum of cards of player) of the game, a is the action (hit or stick), shoud sample a next state s' and reward r.\n",
    "    if a == 0: # hit\n",
    "        if s[1] < 21:\n",
    "            card_value = draw_card() # should return appropriate value of card with correct sign (black -> add, red -> subtract)\n",
    "            s_new = (s[0], s[1] + card_value)\n",
    "            if s_new[1] > 21 or s_new[1] < 1: # player busts\n",
    "                return s_new, -1\n",
    "            else:\n",
    "                return s_new, 0\n",
    "        else:\n",
    "            return s, 0\n",
    "    else: # stick\n",
    "        dealer_card = draw_card()\n",
    "        while dealer_card < 17: # dealer hits until the sum is at least 17\n",
    "            dealer_card += draw_card()\n",
    "        if dealer_card > 21: # dealer busts\n",
    "            return s, 1\n",
    "        elif dealer_card < s[1]: # player wins\n",
    "            return s, 1\n",
    "        elif dealer_card == s[1]: # draw\n",
    "            return s, 0\n",
    "        else: # dealer wins\n",
    "            return s, -1\n",
    "\n",
    "# What is the exact meaning of the \"top card of the dealer\"?, we are not updating that anywhere in the game, so not sure why it is needed.\n"
   ]
  },
  {
   "cell_type": "markdown",
   "id": "1db14823",
   "metadata": {},
   "source": [
    "### Step 2: Monte Carlo Control Implementation"
   ]
  },
  {
   "cell_type": "code",
   "execution_count": null,
   "id": "0f849903",
   "metadata": {},
   "outputs": [],
   "source": [
    "# Initialize the value function, count of states, epsilon, N_0, and alpha.\n",
    "\n",
    "player_value = random.randint(1, 10)\n",
    "dealer_value = random.randint(1, 10)\n",
    "while 0 < player_value < 21 and 0 < dealer_value < 21:\n",
    "    # play the game"
   ]
  }
 ],
 "metadata": {
  "kernelspec": {
   "display_name": ".venv",
   "language": "python",
   "name": "python3"
  },
  "language_info": {
   "name": "python",
   "version": "3.12.3"
  }
 },
 "nbformat": 4,
 "nbformat_minor": 5
}
