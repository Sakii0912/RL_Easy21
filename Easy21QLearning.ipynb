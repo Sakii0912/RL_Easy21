{
 "cells": [
  {
   "cell_type": "markdown",
   "id": "a1e29a3f",
   "metadata": {},
   "source": [
    "## Using Q-Learning: Off-Policy Learning"
   ]
  },
  {
   "cell_type": "markdown",
   "id": "be1308be",
   "metadata": {},
   "source": []
  }
 ],
 "metadata": {
  "language_info": {
   "name": "python"
  }
 },
 "nbformat": 4,
 "nbformat_minor": 5
}
